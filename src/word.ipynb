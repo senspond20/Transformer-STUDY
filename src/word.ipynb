{
 "cells": [
  {
   "cell_type": "code",
   "execution_count": 11,
   "metadata": {},
   "outputs": [
    {
     "ename": "OSError",
     "evalue": "cannot open resource",
     "output_type": "error",
     "traceback": [
      "\u001b[1;31m---------------------------------------------------------------------------\u001b[0m",
      "\u001b[1;31mOSError\u001b[0m                                   Traceback (most recent call last)",
      "\u001b[1;32md:\\python-workspace\\Transformer-STUDY\\src\\word.ipynb Cell 1\u001b[0m line \u001b[0;36m5\n\u001b[0;32m     <a href='vscode-notebook-cell:/d%3A/python-workspace/Transformer-STUDY/src/word.ipynb#W0sZmlsZQ%3D%3D?line=46'>47</a>\u001b[0m \u001b[39m# spwords.add('내가')  # 제외하고 싶은 단어 추가\u001b[39;00m\n\u001b[0;32m     <a href='vscode-notebook-cell:/d%3A/python-workspace/Transformer-STUDY/src/word.ipynb#W0sZmlsZQ%3D%3D?line=48'>49</a>\u001b[0m wc1 \u001b[39m=\u001b[39m WordCloud(max_font_size\u001b[39m=\u001b[39m\u001b[39m200\u001b[39m, stopwords\u001b[39m=\u001b[39mspwords, font_path\u001b[39m=\u001b[39m\u001b[39m'\u001b[39m\u001b[39mD:\u001b[39m\u001b[39m\\f\u001b[39;00m\u001b[39monts\u001b[39m\u001b[39m\\\u001b[39m\u001b[39mBMDOHYEON.ttf\u001b[39m\u001b[39m'\u001b[39m,\n\u001b[0;32m     <a href='vscode-notebook-cell:/d%3A/python-workspace/Transformer-STUDY/src/word.ipynb#W0sZmlsZQ%3D%3D?line=49'>50</a>\u001b[0m                 background_color\u001b[39m=\u001b[39m\u001b[39m'\u001b[39m\u001b[39mwhite\u001b[39m\u001b[39m'\u001b[39m, width\u001b[39m=\u001b[39m\u001b[39m800\u001b[39m, height\u001b[39m=\u001b[39m\u001b[39m800\u001b[39m)\n\u001b[1;32m---> <a href='vscode-notebook-cell:/d%3A/python-workspace/Transformer-STUDY/src/word.ipynb#W0sZmlsZQ%3D%3D?line=50'>51</a>\u001b[0m wc1\u001b[39m.\u001b[39;49mgenerate(text)\n\u001b[0;32m     <a href='vscode-notebook-cell:/d%3A/python-workspace/Transformer-STUDY/src/word.ipynb#W0sZmlsZQ%3D%3D?line=52'>53</a>\u001b[0m plt\u001b[39m.\u001b[39mfigure(figsize\u001b[39m=\u001b[39m(\u001b[39m10\u001b[39m, \u001b[39m8\u001b[39m))\n\u001b[0;32m     <a href='vscode-notebook-cell:/d%3A/python-workspace/Transformer-STUDY/src/word.ipynb#W0sZmlsZQ%3D%3D?line=53'>54</a>\u001b[0m plt\u001b[39m.\u001b[39mimshow(wc1)\n",
      "File \u001b[1;32mc:\\Users\\tapacross\\anaconda3\\envs\\dev3.10\\lib\\site-packages\\wordcloud\\wordcloud.py:639\u001b[0m, in \u001b[0;36mWordCloud.generate\u001b[1;34m(self, text)\u001b[0m\n\u001b[0;32m    624\u001b[0m \u001b[39mdef\u001b[39;00m \u001b[39mgenerate\u001b[39m(\u001b[39mself\u001b[39m, text):\n\u001b[0;32m    625\u001b[0m \u001b[39m    \u001b[39m\u001b[39m\"\"\"Generate wordcloud from text.\u001b[39;00m\n\u001b[0;32m    626\u001b[0m \n\u001b[0;32m    627\u001b[0m \u001b[39m    The input \"text\" is expected to be a natural text. If you pass a sorted\u001b[39;00m\n\u001b[1;32m   (...)\u001b[0m\n\u001b[0;32m    637\u001b[0m \u001b[39m    self\u001b[39;00m\n\u001b[0;32m    638\u001b[0m \u001b[39m    \"\"\"\u001b[39;00m\n\u001b[1;32m--> 639\u001b[0m     \u001b[39mreturn\u001b[39;00m \u001b[39mself\u001b[39;49m\u001b[39m.\u001b[39;49mgenerate_from_text(text)\n",
      "File \u001b[1;32mc:\\Users\\tapacross\\anaconda3\\envs\\dev3.10\\lib\\site-packages\\wordcloud\\wordcloud.py:621\u001b[0m, in \u001b[0;36mWordCloud.generate_from_text\u001b[1;34m(self, text)\u001b[0m\n\u001b[0;32m    604\u001b[0m \u001b[39m\u001b[39m\u001b[39m\"\"\"Generate wordcloud from text.\u001b[39;00m\n\u001b[0;32m    605\u001b[0m \n\u001b[0;32m    606\u001b[0m \u001b[39mThe input \"text\" is expected to be a natural text. If you pass a sorted\u001b[39;00m\n\u001b[1;32m   (...)\u001b[0m\n\u001b[0;32m    618\u001b[0m \u001b[39mself\u001b[39;00m\n\u001b[0;32m    619\u001b[0m \u001b[39m\"\"\"\u001b[39;00m\n\u001b[0;32m    620\u001b[0m words \u001b[39m=\u001b[39m \u001b[39mself\u001b[39m\u001b[39m.\u001b[39mprocess_text(text)\n\u001b[1;32m--> 621\u001b[0m \u001b[39mself\u001b[39;49m\u001b[39m.\u001b[39;49mgenerate_from_frequencies(words)\n\u001b[0;32m    622\u001b[0m \u001b[39mreturn\u001b[39;00m \u001b[39mself\u001b[39m\n",
      "File \u001b[1;32mc:\\Users\\tapacross\\anaconda3\\envs\\dev3.10\\lib\\site-packages\\wordcloud\\wordcloud.py:503\u001b[0m, in \u001b[0;36mWordCloud.generate_from_frequencies\u001b[1;34m(self, frequencies, max_font_size)\u001b[0m\n\u001b[0;32m    500\u001b[0m tried_other_orientation \u001b[39m=\u001b[39m \u001b[39mFalse\u001b[39;00m\n\u001b[0;32m    501\u001b[0m \u001b[39mwhile\u001b[39;00m \u001b[39mTrue\u001b[39;00m:\n\u001b[0;32m    502\u001b[0m     \u001b[39m# try to find a position\u001b[39;00m\n\u001b[1;32m--> 503\u001b[0m     font \u001b[39m=\u001b[39m ImageFont\u001b[39m.\u001b[39;49mtruetype(\u001b[39mself\u001b[39;49m\u001b[39m.\u001b[39;49mfont_path, font_size)\n\u001b[0;32m    504\u001b[0m     \u001b[39m# transpose font optionally\u001b[39;00m\n\u001b[0;32m    505\u001b[0m     transposed_font \u001b[39m=\u001b[39m ImageFont\u001b[39m.\u001b[39mTransposedFont(\n\u001b[0;32m    506\u001b[0m         font, orientation\u001b[39m=\u001b[39morientation)\n",
      "File \u001b[1;32mc:\\Users\\tapacross\\anaconda3\\envs\\dev3.10\\lib\\site-packages\\PIL\\ImageFont.py:791\u001b[0m, in \u001b[0;36mtruetype\u001b[1;34m(font, size, index, encoding, layout_engine)\u001b[0m\n\u001b[0;32m    788\u001b[0m     \u001b[39mreturn\u001b[39;00m FreeTypeFont(font, size, index, encoding, layout_engine)\n\u001b[0;32m    790\u001b[0m \u001b[39mtry\u001b[39;00m:\n\u001b[1;32m--> 791\u001b[0m     \u001b[39mreturn\u001b[39;00m freetype(font)\n\u001b[0;32m    792\u001b[0m \u001b[39mexcept\u001b[39;00m \u001b[39mOSError\u001b[39;00m:\n\u001b[0;32m    793\u001b[0m     \u001b[39mif\u001b[39;00m \u001b[39mnot\u001b[39;00m is_path(font):\n",
      "File \u001b[1;32mc:\\Users\\tapacross\\anaconda3\\envs\\dev3.10\\lib\\site-packages\\PIL\\ImageFont.py:788\u001b[0m, in \u001b[0;36mtruetype.<locals>.freetype\u001b[1;34m(font)\u001b[0m\n\u001b[0;32m    787\u001b[0m \u001b[39mdef\u001b[39;00m \u001b[39mfreetype\u001b[39m(font):\n\u001b[1;32m--> 788\u001b[0m     \u001b[39mreturn\u001b[39;00m FreeTypeFont(font, size, index, encoding, layout_engine)\n",
      "File \u001b[1;32mc:\\Users\\tapacross\\anaconda3\\envs\\dev3.10\\lib\\site-packages\\PIL\\ImageFont.py:226\u001b[0m, in \u001b[0;36mFreeTypeFont.__init__\u001b[1;34m(self, font, size, index, encoding, layout_engine)\u001b[0m\n\u001b[0;32m    224\u001b[0m                 load_from_bytes(f)\n\u001b[0;32m    225\u001b[0m             \u001b[39mreturn\u001b[39;00m\n\u001b[1;32m--> 226\u001b[0m     \u001b[39mself\u001b[39m\u001b[39m.\u001b[39mfont \u001b[39m=\u001b[39m core\u001b[39m.\u001b[39;49mgetfont(\n\u001b[0;32m    227\u001b[0m         font, size, index, encoding, layout_engine\u001b[39m=\u001b[39;49mlayout_engine\n\u001b[0;32m    228\u001b[0m     )\n\u001b[0;32m    229\u001b[0m \u001b[39melse\u001b[39;00m:\n\u001b[0;32m    230\u001b[0m     load_from_bytes(font)\n",
      "\u001b[1;31mOSError\u001b[0m: cannot open resource"
     ]
    }
   ],
   "source": [
    "from wordcloud import WordCloud, STOPWORDS\n",
    "import matplotlib.pyplot as plt\n",
    "\n",
    "# 한글 폰트 패스로 지정\n",
    "import matplotlib.font_manager as fm\n",
    "import re\n",
    "import collections\n",
    "\n",
    "text = \"\"\"지금 알고 있는 걸 그때도 알았더라면\n",
    "내 가슴이 말하는 것에 더 자주 귀를 기울였으리라.\n",
    "더 즐겁게 살고, 덜 고민했으리라.\n",
    "금방 학교를 졸업하고 머지않아 직업을 가져야 한다는 걸 때달았으리라.\n",
    "아니, 그런 것들은 잊어 버렸으리라.\n",
    "다른 사람들이 나에 대해 말하는 것에는\n",
    "신경쓰지 않았으리라.\n",
    "그 대신 내가 가진 생명력과 단단한 피부를 더 가치있게 여겼으리라.\n",
    "\n",
    "더 많이 놀고, 덜 초조해 했으리라.\n",
    "진정한 아름다움은 자신의 인생을 사랑하는 데 있음을 기억했으리라.\n",
    "부모가 날 얼마나 사랑하는가를 알고\n",
    "또한 그들이 내게 최선을 다하고 있음을 믿었으리라.\n",
    "\n",
    "사랑에 더 열중하고\n",
    "그 결말에 대해선 덜 걱정했으리라.\n",
    "설령 그것이 실패로 끝난다 해도\n",
    "더 좋은 어떤 것이 기다리고 있음을 믿었으리라.\n",
    "\n",
    "아, 나는 어린아이처럼 행동하는 걸 두려워하지 않았으리라.\n",
    "더 많은 용기를 가졌으리라.\n",
    "모든 사람에게서 좋은 면을 발견하고\n",
    "그것들을 그들과 함께 나눴으리라.\n",
    "\n",
    "지금 알고 있는 걸 그때도 알았더라면\n",
    "나는 분명코 춤추는 법을 배웠으리라.\n",
    "내 육체를 있는 그대로 좋아했으리라.\n",
    "내가 만난 사람을 신뢰하고\n",
    "나 역시 누군가에게 신뢰할 만한 사람이 되었으리라.\n",
    "\n",
    "입맞춤을 즐겼으리라.\n",
    "정말로 자주 입을 맞췄으리라.\n",
    "분명코 더 감사하고,\n",
    "저 많이 행복해 했으리라.\n",
    "지금 알고 있는 걸 그때도 알았더라면.\n",
    "\"\"\"\n",
    "\n",
    "spwords = set(STOPWORDS)  # 제외할 단어\n",
    "# spwords.add('내가')  # 제외하고 싶은 단어 추가\n",
    "\n",
    "wc1 = WordCloud(max_font_size=200, stopwords=spwords, font_path='D:\\\\fonts\\BMDOHYEON_ttf.ttf',\n",
    "                background_color='white', width=800, height=800)\n",
    "wc1.generate(text)\n",
    "\n",
    "plt.figure(figsize=(10, 8))\n",
    "plt.imshow(wc1)\n",
    "plt.tight_layout(pad=0)\n",
    "plt.axis('off')\n",
    "plt.show()\n"
   ]
  }
 ],
 "metadata": {
  "kernelspec": {
   "display_name": "dev3.10",
   "language": "python",
   "name": "python3"
  },
  "language_info": {
   "codemirror_mode": {
    "name": "ipython",
    "version": 3
   },
   "file_extension": ".py",
   "mimetype": "text/x-python",
   "name": "python",
   "nbconvert_exporter": "python",
   "pygments_lexer": "ipython3",
   "version": "3.10.13"
  }
 },
 "nbformat": 4,
 "nbformat_minor": 2
}
